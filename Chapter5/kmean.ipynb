{
 "cells": [
  {
   "cell_type": "code",
   "execution_count": 1,
   "metadata": {},
   "outputs": [],
   "source": [
    "# import the library\n",
    "import matplotlib.pyplot as plt\n",
    "import seaborn as sns; sns.set()\n",
    "import numpy as np\n",
    "from sklearn.datasets import make_blobs\n",
    "from sklearn.cluster import KMeans"
   ]
  },
  {
   "cell_type": "code",
   "execution_count": 2,
   "metadata": {},
   "outputs": [],
   "source": [
    "# generate the data using make_blods, a function in sckit-learn to generate systhetic data \n",
    "\n",
    "samples, true_labels= make_blobs(n_samples=500,)"
   ]
  },
  {
   "cell_type": "code",
   "execution_count": 3,
   "metadata": {},
   "outputs": [],
   "source": [
    "# Running the model using different configuration\n",
    "kmean_kwarg={\"init\":\"random\",\"n_init\":10,\"max_iter\":1000,\"random_state\":42}\n",
    "\n",
    "#create empty list to save the SSE for each k"
   ]
  }
 ],
 "metadata": {
  "kernelspec": {
   "display_name": "Python 3.9.12 ('base')",
   "language": "python",
   "name": "python3"
  },
  "language_info": {
   "codemirror_mode": {
    "name": "ipython",
    "version": 3
   },
   "file_extension": ".py",
   "mimetype": "text/x-python",
   "name": "python",
   "nbconvert_exporter": "python",
   "pygments_lexer": "ipython3",
   "version": "3.9.12"
  },
  "orig_nbformat": 4,
  "vscode": {
   "interpreter": {
    "hash": "918852910ace25ef07071271f7a7083207f03dbb12378f47f1c42ed8f0485cd1"
   }
  }
 },
 "nbformat": 4,
 "nbformat_minor": 2
}
