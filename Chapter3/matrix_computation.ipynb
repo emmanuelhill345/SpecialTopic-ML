{
 "cells": [
  {
   "cell_type": "markdown",
   "metadata": {},
   "source": [
    "# Matrix Operations and Linear Equation"
   ]
  },
  {
   "cell_type": "code",
   "execution_count": 46,
   "metadata": {},
   "outputs": [],
   "source": [
    "import numpy as np"
   ]
  },
  {
   "cell_type": "code",
   "execution_count": 47,
   "metadata": {},
   "outputs": [
    {
     "name": "stdout",
     "output_type": "stream",
     "text": [
      "[[1 5 6]\n",
      " [8 5 6]\n",
      " [1 0 3]] \n",
      "\n",
      "[[12 20 -3]\n",
      " [ 5 -8  5]\n",
      " [ 6  9 17]]\n"
     ]
    }
   ],
   "source": [
    "# create a two square matrix\n",
    "\n",
    "x = np.array([[1,5,6],[8,5,6],[1,0,3]])\n",
    "z= np.array([[12,20,-3],[5,-8,5],[6,9,17]])\n",
    "\n",
    "print (x,\"\\n\")\n",
    "print(z)"
   ]
  },
  {
   "cell_type": "code",
   "execution_count": 48,
   "metadata": {},
   "outputs": [
    {
     "name": "stdout",
     "output_type": "stream",
     "text": [
      "[[13 25  3]\n",
      " [13 -3 11]\n",
      " [ 7  9 20]] \n",
      "\n",
      "[[-11 -15   9]\n",
      " [  3  13   1]\n",
      " [ -5  -9 -14]]\n"
     ]
    }
   ],
   "source": [
    "# Add and substraction method\n",
    "added = x.__add__(z)\n",
    "sub = x.__sub__(z)\n",
    "\n",
    "print(added,'\\n')\n",
    "print(sub)"
   ]
  },
  {
   "cell_type": "code",
   "execution_count": 49,
   "metadata": {},
   "outputs": [
    {
     "name": "stdout",
     "output_type": "stream",
     "text": [
      "[[ 12 100 -18]\n",
      " [ 40 -40  30]\n",
      " [  6   0  51]] \n",
      "\n",
      "[[ 73  34 124]\n",
      " [157 174 103]\n",
      " [ 30  47  48]]\n"
     ]
    }
   ],
   "source": [
    "# piecewise multiplication and multiplication of two matrices \n",
    "\n",
    "piecewise = x.__mul__(z)\n",
    "mul = x.__matmul__(z)\n",
    "\n",
    "print(piecewise, '\\n')\n",
    "print(mul)"
   ]
  },
  {
   "cell_type": "code",
   "execution_count": 50,
   "metadata": {},
   "outputs": [],
   "source": [
    "# 1x+1y = 2 and 10x+35y=30\n",
    "\n",
    "A = np.array([[1,1],[10,35]])\n",
    "b = np.array([[2],[30]])"
   ]
  },
  {
   "cell_type": "code",
   "execution_count": 51,
   "metadata": {},
   "outputs": [
    {
     "name": "stdout",
     "output_type": "stream",
     "text": [
      "dim, of matrix A =  (2, 2)\n",
      "dim. of vector b=  (2, 2)\n"
     ]
    }
   ],
   "source": [
    "# Verify the size of the vector A and b.\n",
    "print('dim, of matrix A = ', A.shape)\n",
    "print('dim. of vector b= ', A.shape)"
   ]
  },
  {
   "cell_type": "code",
   "execution_count": 52,
   "metadata": {},
   "outputs": [
    {
     "data": {
      "text/plain": [
       "25.000000000000007"
      ]
     },
     "execution_count": 52,
     "metadata": {},
     "output_type": "execute_result"
    }
   ],
   "source": [
    "# finding the determinant of a matrix\n",
    "\n",
    "np.linalg.det(A)"
   ]
  },
  {
   "cell_type": "code",
   "execution_count": 53,
   "metadata": {},
   "outputs": [
    {
     "name": "stdout",
     "output_type": "stream",
     "text": [
      "[[ 1.4  -0.04]\n",
      " [-0.4   0.04]]\n"
     ]
    }
   ],
   "source": [
    "#Finding the inverse of the matrix A\n",
    "\n",
    "inv_A = np.linalg.inv(A)\n",
    "print(inv_A)"
   ]
  },
  {
   "cell_type": "code",
   "execution_count": 54,
   "metadata": {},
   "outputs": [
    {
     "name": "stdout",
     "output_type": "stream",
     "text": [
      "[[1.6]\n",
      " [0.4]]\n"
     ]
    }
   ],
   "source": [
    "#finding the solution\n",
    "sol = inv_A.dot(b)\n",
    "print(sol)"
   ]
  },
  {
   "cell_type": "code",
   "execution_count": 55,
   "metadata": {},
   "outputs": [
    {
     "name": "stdout",
     "output_type": "stream",
     "text": [
      "[2.]\n",
      "[30.]\n"
     ]
    }
   ],
   "source": [
    "# check your solution\n",
    "print(1*sol[0] + 1*sol[1])\n",
    "print(10*sol[0] + 35*sol[1])"
   ]
  },
  {
   "cell_type": "code",
   "execution_count": 56,
   "metadata": {},
   "outputs": [],
   "source": [
    "#Solve the system\n",
    "# 4x+2y+4z = 44\n",
    "# 5x+3y+7z = 56\n",
    "# 9x+3y+6z = 72\n",
    "\n"
   ]
  },
  {
   "cell_type": "markdown",
   "metadata": {},
   "source": [
    "# Computing Eigenvalues and Eigenvector"
   ]
  },
  {
   "cell_type": "code",
   "execution_count": 57,
   "metadata": {},
   "outputs": [
    {
     "name": "stdout",
     "output_type": "stream",
     "text": [
      "Eigenvalues:\n",
      " [ 6.          1.16227766 -5.16227766]\n",
      "Eigenvectors:\n",
      " [[-0.40824829 -0.27425784 -0.08167547]\n",
      " [-0.40824829  0.56487359 -0.65827525]\n",
      " [-0.81649658  0.7782676   0.74833336]]\n"
     ]
    }
   ],
   "source": [
    "A =  np.array([[4,0,1],[2,-2,3],[7,5,0]])\n",
    "w, v = np.linalg.eig(A)\n",
    "print(\"Eigenvalues:\\n\",w)\n",
    "print(\"Eigenvectors:\\n\",v)"
   ]
  }
 ],
 "metadata": {
  "kernelspec": {
   "display_name": "Python 3.10.6 64-bit",
   "language": "python",
   "name": "python3"
  },
  "language_info": {
   "codemirror_mode": {
    "name": "ipython",
    "version": 3
   },
   "file_extension": ".py",
   "mimetype": "text/x-python",
   "name": "python",
   "nbconvert_exporter": "python",
   "pygments_lexer": "ipython3",
   "version": "3.10.6"
  },
  "orig_nbformat": 4,
  "vscode": {
   "interpreter": {
    "hash": "b0fa6594d8f4cbf19f97940f81e996739fb7646882a419484c72d19e05852a7e"
   }
  }
 },
 "nbformat": 4,
 "nbformat_minor": 2
}
